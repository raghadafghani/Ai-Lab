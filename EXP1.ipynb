{
  "nbformat": 4,
  "nbformat_minor": 0,
  "metadata": {
    "colab": {
      "provenance": []
    },
    "kernelspec": {
      "name": "python3",
      "display_name": "Python 3"
    },
    "language_info": {
      "name": "python"
    }
  },
  "cells": [
    {
      "cell_type": "markdown",
      "source": [
        "**EXP #1 | Raghad Afaghani 1192423**\n",
        "\n",
        "\n",
        "\n",
        "\n",
        "\n",
        "---\n",
        "\n"
      ],
      "metadata": {
        "id": "oFgo-Ae7i_em"
      }
    },
    {
      "cell_type": "code",
      "execution_count": null,
      "metadata": {
        "colab": {
          "base_uri": "https://localhost:8080/"
        },
        "id": "f5RfJI8Ekpqk",
        "outputId": "2ef549bf-8f69-4278-c3c3-bc76a008cae3"
      },
      "outputs": [
        {
          "output_type": "stream",
          "name": "stdout",
          "text": [
            "0    1\n",
            "1    7\n",
            "2    2\n",
            "dtype: int64\n"
          ]
        }
      ],
      "source": [
        "import pandas as pd\n",
        "# create a simple list\n",
        "a = [1, 7, 2]\n",
        "# create series from a list\n",
        "my_Series = pd.Series(a)\n",
        "print(my_Series)"
      ]
    },
    {
      "cell_type": "code",
      "source": [
        "import pandas as pd\n",
        "# a simple dictionary\n",
        "calories = {\"day1\": 420, \"day2\": 380, \"day3\": 390}\n",
        "# create series from dictionary\n",
        "my_Series = pd.Series(calories)\n",
        "print(my_Series)\n",
        "\n"
      ],
      "metadata": {
        "colab": {
          "base_uri": "https://localhost:8080/"
        },
        "id": "RdKPjknDlwG8",
        "outputId": "fc42940f-0041-46f0-f883-136e38a3b2a7"
      },
      "execution_count": null,
      "outputs": [
        {
          "output_type": "stream",
          "name": "stdout",
          "text": [
            "day1    420\n",
            "day2    380\n",
            "day3    390\n",
            "dtype: int64\n"
          ]
        }
      ]
    },
    {
      "cell_type": "code",
      "source": [
        "import pandas as pd\n",
        "# Initialize data to a series.\n",
        "d = pd.Series([10, 20, 30, 40])\n",
        "# creates Dataframe.\n",
        "df = pd.DataFrame(d)\n",
        "# print the data.\n",
        "print(df)"
      ],
      "metadata": {
        "colab": {
          "base_uri": "https://localhost:8080/"
        },
        "id": "o3mYBrhkmcNV",
        "outputId": "f74b7022-8291-4dc2-dcee-0fd261d201ed"
      },
      "execution_count": null,
      "outputs": [
        {
          "output_type": "stream",
          "name": "stdout",
          "text": [
            "    0\n",
            "0  10\n",
            "1  20\n",
            "2  30\n",
            "3  40\n"
          ]
        }
      ]
    },
    {
      "cell_type": "code",
      "source": [
        "import pandas as pd\n",
        "# initialize the data of lists.\n",
        "data = {'Name': ['Ahmad', 'Ali', 'Omar', 'Hamzah'],\n",
        "'Age': [20, 21, 19, 18]}\n",
        "# Create DataFrame\n",
        "df = pd.DataFrame(data)\n",
        "# Print the output.\n",
        "print(df)\n"
      ],
      "metadata": {
        "colab": {
          "base_uri": "https://localhost:8080/"
        },
        "id": "43kCQY7PmqP9",
        "outputId": "073a7dd2-0e5d-40ab-f437-283a19d257fe"
      },
      "execution_count": null,
      "outputs": [
        {
          "output_type": "stream",
          "name": "stdout",
          "text": [
            "     Name  Age\n",
            "0   Ahmad   20\n",
            "1     Ali   21\n",
            "2    Omar   19\n",
            "3  Hamzah   18\n"
          ]
        }
      ]
    },
    {
      "cell_type": "code",
      "source": [
        "import pandas as pd\n",
        "data = {\n",
        "\"calories\": [420, 380, 390],\n",
        "\"duration\": [50, 40, 45]\n",
        "}\n",
        "myvar = pd.DataFrame(data)\n",
        "print(myvar)"
      ],
      "metadata": {
        "colab": {
          "base_uri": "https://localhost:8080/"
        },
        "id": "gcuTNm7im1EM",
        "outputId": "48ad745d-883a-49e3-e1da-98c6a96a8e9f"
      },
      "execution_count": null,
      "outputs": [
        {
          "output_type": "stream",
          "name": "stdout",
          "text": [
            "   calories  duration\n",
            "0       420        50\n",
            "1       380        40\n",
            "2       390        45\n"
          ]
        }
      ]
    },
    {
      "cell_type": "code",
      "source": [
        "import pandas as pd\n",
        "df = pd.read_csv('data.csv')\n",
        "print(df)\n"
      ],
      "metadata": {
        "colab": {
          "base_uri": "https://localhost:8080/"
        },
        "id": "MlS5y53knNfk",
        "outputId": "6abac1d2-f981-44e9-ec14-163998d0f952"
      },
      "execution_count": null,
      "outputs": [
        {
          "output_type": "stream",
          "name": "stdout",
          "text": [
            "   1  a  c1\n",
            "0  2  a  c2\n",
            "1  3  b  c3\n",
            "2  4  d  c4\n"
          ]
        }
      ]
    },
    {
      "cell_type": "code",
      "source": [
        "import pandas as pd\n",
        "df = pd.read_csv('data.csv')\n",
        "print(df.tail())\n"
      ],
      "metadata": {
        "colab": {
          "base_uri": "https://localhost:8080/"
        },
        "id": "Pcbt5yeqqIPV",
        "outputId": "93a982fa-e347-43e2-9b23-14b1993fe9d6"
      },
      "execution_count": null,
      "outputs": [
        {
          "output_type": "stream",
          "name": "stdout",
          "text": [
            "   1  a  c1\n",
            "0  2  a  c2\n",
            "1  3  b  c3\n",
            "2  4  d  c4\n"
          ]
        }
      ]
    },
    {
      "cell_type": "code",
      "source": [
        "import pandas as pd\n",
        "df = pd.read_csv('data.csv')\n",
        "print(df.shape)"
      ],
      "metadata": {
        "colab": {
          "base_uri": "https://localhost:8080/"
        },
        "id": "OXmWs3aiqUGE",
        "outputId": "a530639b-68c0-4050-d748-448fb601766a"
      },
      "execution_count": null,
      "outputs": [
        {
          "output_type": "stream",
          "name": "stdout",
          "text": [
            "(3, 3)\n"
          ]
        }
      ]
    },
    {
      "cell_type": "markdown",
      "source": [
        " DataFrame is a tuple of array dimensions that tells\n",
        "the number of rows and columns of a given DataFrame\n"
      ],
      "metadata": {
        "id": "20v7uRgkqd2M"
      }
    },
    {
      "cell_type": "code",
      "source": [
        "import pandas as pd\n",
        "df = pd.read_csv('data.csv')\n",
        "print(df.info())"
      ],
      "metadata": {
        "colab": {
          "base_uri": "https://localhost:8080/"
        },
        "id": "g4ZR1YDTqs1L",
        "outputId": "7c91f1de-7ca3-467f-a377-e22cfa7c3c13"
      },
      "execution_count": null,
      "outputs": [
        {
          "output_type": "stream",
          "name": "stdout",
          "text": [
            "<class 'pandas.core.frame.DataFrame'>\n",
            "RangeIndex: 3 entries, 0 to 2\n",
            "Data columns (total 3 columns):\n",
            " #   Column  Non-Null Count  Dtype \n",
            "---  ------  --------------  ----- \n",
            " 0   1       3 non-null      int64 \n",
            " 1   a       3 non-null      object\n",
            " 2   c1      3 non-null      object\n",
            "dtypes: int64(1), object(2)\n",
            "memory usage: 200.0+ bytes\n",
            "None\n"
          ]
        }
      ]
    },
    {
      "cell_type": "markdown",
      "source": [
        "info() method provides the\n",
        "essential details about your dataset, such as the number of rows and columns, the\n",
        "number of non-null values, what type of data is in each column, and how much memory\n",
        "your DataFrame is using.\n"
      ],
      "metadata": {
        "id": "RkrYT98uq02u"
      }
    },
    {
      "cell_type": "code",
      "source": [
        "import pandas as pd\n",
        "df = pd.DataFrame({'col_1': list(range(1, 11)), 'col_2':\n",
        "list(range(11, 21)), 'col_3': list(range(21, 31)), 'col_4':\n",
        "list(range(31, 41)), 'col_5': list(range(41, 51)), 'col_6':\n",
        "list(range(51, 61)), 'col_7': list(range(61, 71)), 'col_8':\n",
        "list(range(71, 81)), 'col_9': list(range(81, 91))})\n",
        "\n",
        "\n",
        "df.index = ['row_1', 'row_2', 'row_3', 'row_4', 'row_5', 'row_6',\n",
        "'row_7', 'row_8', 'row_9', 'row_10']\n",
        "\n",
        "\n",
        "\n",
        "print(df.iat[1, 2])\n",
        "\n"
      ],
      "metadata": {
        "colab": {
          "base_uri": "https://localhost:8080/"
        },
        "id": "AzqslZkMrwZU",
        "outputId": "76feec87-a9dc-46c9-a2e8-5f7e43f842cb"
      },
      "execution_count": null,
      "outputs": [
        {
          "output_type": "stream",
          "name": "stdout",
          "text": [
            "22\n"
          ]
        }
      ]
    },
    {
      "cell_type": "markdown",
      "source": [
        "Get value at specified row/column pair\n",
        "\n",
        "\n"
      ],
      "metadata": {
        "id": "Y6oCudJ3t2VV"
      }
    },
    {
      "cell_type": "code",
      "source": [
        "import pandas as pd\n",
        "# Create a sample dataframe\n",
        "Biodata = {'Name': ['Ahmad', 'Ali', 'Omar', 'Hamzah'],\n",
        "'Age': [28, 23, 35, 31],\n",
        "'Gender': ['M', 'F', 'M', 'F']\n",
        "}\n",
        "df = pd.DataFrame(Biodata)\n",
        "# Save the dataframe to a CSV file\n",
        "df.to_csv('Biodata.csv', index=False)"
      ],
      "metadata": {
        "id": "GgPGQEOhySe2"
      },
      "execution_count": null,
      "outputs": []
    },
    {
      "cell_type": "code",
      "source": [
        "import pandas as pd\n",
        "# Define a dictionary containing Students data\n",
        "data = {'Name': ['Ahmad', 'Ali', 'Omar', 'Hamzah'],\n",
        "'Height': [5.1, 6.2, 5.1, 5.2],\n",
        "'Qualification': ['Msc', 'MA', 'Msc', 'Msc']}\n",
        "# Convert the dictionary into DataFrame\n",
        "df = pd.DataFrame(data)\n",
        "print(df)\n",
        "\n",
        "# Declare a list that is to be converted into a column\n",
        "address = ['Delhi', 'Bangalore', 'Chennai', 'Patna']\n",
        "# Using 'Address' as the column name and equating it to the list\n",
        "df['Address'] = address\n",
        "# Observe the result\n",
        "print(df)"
      ],
      "metadata": {
        "colab": {
          "base_uri": "https://localhost:8080/"
        },
        "id": "z9HeQG64yiPd",
        "outputId": "ef226818-9f32-41b6-f67c-97cd775942fe"
      },
      "execution_count": null,
      "outputs": [
        {
          "output_type": "stream",
          "name": "stdout",
          "text": [
            "     Name  Height Qualification\n",
            "0   Ahmad     5.1           Msc\n",
            "1     Ali     6.2            MA\n",
            "2    Omar     5.1           Msc\n",
            "3  Hamzah     5.2           Msc\n",
            "     Name  Height Qualification    Address\n",
            "0   Ahmad     5.1           Msc      Delhi\n",
            "1     Ali     6.2            MA  Bangalore\n",
            "2    Omar     5.1           Msc    Chennai\n",
            "3  Hamzah     5.2           Msc      Patna\n"
          ]
        }
      ]
    },
    {
      "cell_type": "code",
      "source": [
        "# Define a dictionary containing Students data\n",
        "data = {'Name': ['Ahmad', 'Ali', 'Omar', 'Hamzah'],\n",
        "'Height': [5.1, 6.2, 5.1, 5.2],\n",
        "'Qualification': ['Msc', 'MA', 'Msc', 'Msc'],\n",
        "'Age': [21, 23, 24, 21]}\n",
        "# Convert the dictionary into DataFrame\n",
        "df = pd.DataFrame(data)\n",
        "# dropping passed columns\n",
        "df1 = df.drop([\"Height\"], axis = 1)\n",
        "\n",
        "# Observe the result\n",
        "print(df)\n",
        "print(df1)"
      ],
      "metadata": {
        "colab": {
          "base_uri": "https://localhost:8080/"
        },
        "id": "UfKYXw0YzNL0",
        "outputId": "a1a694ce-0659-4eb4-cf0a-34b2672413d7"
      },
      "execution_count": null,
      "outputs": [
        {
          "output_type": "stream",
          "name": "stdout",
          "text": [
            "     Name  Height Qualification  Age\n",
            "0   Ahmad     5.1           Msc   21\n",
            "1     Ali     6.2            MA   23\n",
            "2    Omar     5.1           Msc   24\n",
            "3  Hamzah     5.2           Msc   21\n",
            "     Name Qualification  Age\n",
            "0   Ahmad           Msc   21\n",
            "1     Ali            MA   23\n",
            "2    Omar           Msc   24\n",
            "3  Hamzah           Msc   21\n"
          ]
        }
      ]
    },
    {
      "cell_type": "code",
      "source": [
        "import pandas as pd\n",
        "technologies= {\n",
        "'Courses':[\"Spark\",\"PySpark\",\"Hadoop\",\"Python\",\"Pandas\"],\n",
        "'Fee' :[22000,25000,23000,24000,26000],\n",
        "'Duration':['30days','50days','35days', '40days','55days'],\n",
        "'Discount':[1000,2300,1000,1200,2500]\n",
        "}\n",
        "df = pd.DataFrame(technologies)\n",
        "print(df)\n",
        "# New list to append Row to DataFrame\n",
        "list = [\"Hyperion\", 27000, \"60days\", 2000]\n",
        "df.loc[len(df)] = list\n",
        "print(df)"
      ],
      "metadata": {
        "colab": {
          "base_uri": "https://localhost:8080/"
        },
        "id": "KD5TrYnuz-L7",
        "outputId": "393820cd-6e2e-4f1c-f6cf-05a710f208e5"
      },
      "execution_count": null,
      "outputs": [
        {
          "output_type": "stream",
          "name": "stdout",
          "text": [
            "   Courses    Fee Duration  Discount\n",
            "0    Spark  22000   30days      1000\n",
            "1  PySpark  25000   50days      2300\n",
            "2   Hadoop  23000   35days      1000\n",
            "3   Python  24000   40days      1200\n",
            "4   Pandas  26000   55days      2500\n",
            "    Courses    Fee Duration  Discount\n",
            "0     Spark  22000   30days      1000\n",
            "1   PySpark  25000   50days      2300\n",
            "2    Hadoop  23000   35days      1000\n",
            "3    Python  24000   40days      1200\n",
            "4    Pandas  26000   55days      2500\n",
            "5  Hyperion  27000   60days      2000\n"
          ]
        }
      ]
    },
    {
      "cell_type": "markdown",
      "source": [
        "Adding a new row to the end of the Pandas DataFrame."
      ],
      "metadata": {
        "id": "oUO5rL2L0KS9"
      }
    },
    {
      "cell_type": "code",
      "source": [
        "import pandas as pd\n",
        "import numpy as np\n",
        "technologies = {\n",
        "'Courses':[\"Spark\",\"PySpark\",\"Hadoop\",\"Python\"],\n",
        "'Fee' :[20000,25000,26000,22000],\n",
        "'Duration':['30day','40days',np.nan, None],\n",
        "'Discount':[1000,2300,1500,1200]\n",
        "}\n",
        "indexes=['r1','r2','r3','r4']\n",
        "# Using drop() to delete rows based on column value\n",
        "df.drop(df[df['Fee'] >= 24000].index, inplace = True)\n",
        "# Remove rows\n",
        "df2 = df[df.Fee >= 24000]\n",
        "# Using loc\n",
        "df2 = df.loc[df[\"Fee\"] >= 24000]\n",
        "\n",
        "df = pd.DataFrame(technologies)\n",
        "print(df)\n",
        "print(\"=====================\")\n",
        "print(df2)\n",
        "print(\"=====================\")\n",
        "\n",
        "\n"
      ],
      "metadata": {
        "colab": {
          "base_uri": "https://localhost:8080/"
        },
        "id": "31Vke7i00RkE",
        "outputId": "ae73499c-0c8b-4639-ab73-a696523a7bf0"
      },
      "execution_count": null,
      "outputs": [
        {
          "output_type": "stream",
          "name": "stdout",
          "text": [
            "   Courses    Fee Duration  Discount\n",
            "0    Spark  20000    30day      1000\n",
            "1  PySpark  25000   40days      2300\n",
            "2   Hadoop  26000      NaN      1500\n",
            "3   Python  22000     None      1200\n",
            "=====================\n",
            "Empty DataFrame\n",
            "Columns: [Courses, Fee, Duration, Discount]\n",
            "Index: []\n",
            "=====================\n"
          ]
        }
      ]
    },
    {
      "cell_type": "markdown",
      "source": [
        "Alternatively, you can also write the same statement by using the field name 'index'"
      ],
      "metadata": {
        "id": "6II92x8C1C-M"
      }
    },
    {
      "cell_type": "code",
      "source": [
        "import pandas as pd\n",
        "# Create two sample DataFrames\n",
        "df1 = pd.DataFrame({'A': ['A0', 'A1', 'A2', 'A3'],\n",
        "'B': ['B0', 'B1', 'B2', 'B3'],\n",
        "'C': ['C0', 'C1', 'C2', 'C3'],\n",
        "'D': ['D0', 'D1', 'D2', 'D3']})\n",
        "df2 = pd.DataFrame({'A': ['A0', 'A1', 'A5', 'A2'],\n",
        "'B1': ['B4', 'B5', 'B6', 'B1'],\n",
        "'C1': ['C4', 'C5', 'C6', 'C1'],\n",
        "'D1': ['D4', 'D5', 'D6', 'D1']})\n",
        "# Concatenate the DataFrames vertically\n",
        "result = pd.concat([df1, df2])\n",
        "df = pd.merge(df1, df2,how='outer')\n",
        "print(result)\n",
        "print(\"===========================\")\n",
        "print(df)\n",
        "\n",
        "print(\"===========================\")\n",
        "df3 = df1.merge(df2,on='A', how='right',indicator=True)\n",
        "df = df3.loc[df3['_merge']\n",
        "== 'right_only', 'A']\n",
        "d = df2[df2['A'].isin(df)]\n",
        "print(df)\n",
        "\n"
      ],
      "metadata": {
        "colab": {
          "base_uri": "https://localhost:8080/"
        },
        "id": "KBt0clX_2xTo",
        "outputId": "ec0b6234-aa21-4ff9-fa0c-f4d08a3cb5d3"
      },
      "execution_count": null,
      "outputs": [
        {
          "output_type": "stream",
          "name": "stdout",
          "text": [
            "    A    B    C    D   B1   C1   D1\n",
            "0  A0   B0   C0   D0  NaN  NaN  NaN\n",
            "1  A1   B1   C1   D1  NaN  NaN  NaN\n",
            "2  A2   B2   C2   D2  NaN  NaN  NaN\n",
            "3  A3   B3   C3   D3  NaN  NaN  NaN\n",
            "0  A0  NaN  NaN  NaN   B4   C4   D4\n",
            "1  A1  NaN  NaN  NaN   B5   C5   D5\n",
            "2  A5  NaN  NaN  NaN   B6   C6   D6\n",
            "3  A2  NaN  NaN  NaN   B1   C1   D1\n",
            "===========================\n",
            "    A    B    C    D   B1   C1   D1\n",
            "0  A0   B0   C0   D0   B4   C4   D4\n",
            "1  A1   B1   C1   D1   B5   C5   D5\n",
            "2  A2   B2   C2   D2   B1   C1   D1\n",
            "3  A3   B3   C3   D3  NaN  NaN  NaN\n",
            "4  A5  NaN  NaN  NaN   B6   C6   D6\n",
            "===========================\n",
            "2    A5\n",
            "Name: A, dtype: object\n"
          ]
        }
      ]
    },
    {
      "cell_type": "code",
      "source": [
        "import pandas as pd\n",
        "sales_data = pd.DataFrame({\n",
        "\"name\":[\"Ahmad\",\"Ali\",\"Nour\",\"Mohammad\",\"Hamzah\",\"Omar\",\"Rami\",\"Hani\",\n",
        "\"Salem\",\"Anas\",\"Bilal\"]\n",
        ",\"region\":[\"East\",\"North\",\"East\",\"South\",\"West\",\"West\",\"South\",\"West\",\n",
        "\"West\",\"East\",\"South\"]\n",
        ",\"sales\":[50000,52000,90000,34000,42000,72000,49000,55000,67000,65000,\n",
        "67000]\n",
        ",\"expenses\":[42000,43000,50000,44000,38000,39000,42000,60000,39000,44000,45000]})\n",
        "print(sales_data)\n",
        "print(\"===========================\")\n",
        "\n",
        "stats1 = sales_data.describe(include='all')\n",
        "print(stats1)\n",
        "print(\"===========================\")\n",
        "\n",
        "\n"
      ],
      "metadata": {
        "colab": {
          "base_uri": "https://localhost:8080/"
        },
        "id": "PUqck1FA4DHs",
        "outputId": "68a7c65a-7d11-4cb0-cbb5-03dcbb8f94b1"
      },
      "execution_count": null,
      "outputs": [
        {
          "output_type": "stream",
          "name": "stdout",
          "text": [
            "        name region  sales  expenses\n",
            "0      Ahmad   East  50000     42000\n",
            "1        Ali  North  52000     43000\n",
            "2       Nour   East  90000     50000\n",
            "3   Mohammad  South  34000     44000\n",
            "4     Hamzah   West  42000     38000\n",
            "5       Omar   West  72000     39000\n",
            "6       Rami  South  49000     42000\n",
            "7       Hani   West  55000     60000\n",
            "8      Salem   West  67000     39000\n",
            "9       Anas   East  65000     44000\n",
            "10     Bilal  South  67000     45000\n",
            "===========================\n",
            "         name region         sales      expenses\n",
            "count      11     11     11.000000     11.000000\n",
            "unique     11      4           NaN           NaN\n",
            "top     Ahmad   West           NaN           NaN\n",
            "freq        1      4           NaN           NaN\n",
            "mean      NaN    NaN  58454.545455  44181.818182\n",
            "std       NaN    NaN  15654.798858   6226.045002\n",
            "min       NaN    NaN  34000.000000  38000.000000\n",
            "25%       NaN    NaN  49500.000000  40500.000000\n",
            "50%       NaN    NaN  55000.000000  43000.000000\n",
            "75%       NaN    NaN  67000.000000  44500.000000\n",
            "max       NaN    NaN  90000.000000  60000.000000\n",
            "===========================\n"
          ]
        }
      ]
    },
    {
      "cell_type": "code",
      "source": [
        "import pandas as pd\n",
        "dataMatrix = [(65,75,74,73,95,76,62,100),\n",
        "(101,102,103,107,157,160,191,192)];\n",
        "dataFrame = pd.DataFrame(data=dataMatrix);\n",
        "kurt = dataFrame.kurt(axis=1);\n",
        "print(\"Data:\");\n",
        "print(dataFrame);\n",
        "print(\"Kurtosis:\");\n",
        "print(kurt);\n"
      ],
      "metadata": {
        "colab": {
          "base_uri": "https://localhost:8080/"
        },
        "id": "R82Dd-uZ5KMM",
        "outputId": "1761301e-16b8-4892-db8e-6a9209f15200"
      },
      "execution_count": null,
      "outputs": [
        {
          "output_type": "stream",
          "name": "stdout",
          "text": [
            "Data:\n",
            "     0    1    2    3    4    5    6    7\n",
            "0   65   75   74   73   95   76   62  100\n",
            "1  101  102  103  107  157  160  191  192\n",
            "Kurtosis:\n",
            "0   -0.246357\n",
            "1   -2.044655\n",
            "dtype: float64\n"
          ]
        }
      ]
    }
  ]
}
