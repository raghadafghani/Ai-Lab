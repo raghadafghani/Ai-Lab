{
  "nbformat": 4,
  "nbformat_minor": 0,
  "metadata": {
    "colab": {
      "provenance": [],
      "gpuType": "T4"
    },
    "kernelspec": {
      "name": "python3",
      "display_name": "Python 3"
    },
    "language_info": {
      "name": "python"
    },
    "accelerator": "GPU"
  },
  "cells": [
    {
      "cell_type": "markdown",
      "source": [
        "**EXP #7 | Raghad Afaghani 1192423**\n",
        "\n",
        "\n",
        "\n",
        "\n",
        "\n",
        "---\n",
        "\n"
      ],
      "metadata": {
        "id": "ILcExzbriOtm"
      }
    },
    {
      "cell_type": "markdown",
      "source": [
        "**1.1 Tensor**"
      ],
      "metadata": {
        "id": "1ujXjfMrbwLR"
      }
    },
    {
      "cell_type": "code",
      "execution_count": null,
      "metadata": {
        "id": "za3pZQiMbsGN"
      },
      "outputs": [],
      "source": [
        "import torch\n",
        "import numpy as np"
      ]
    },
    {
      "cell_type": "markdown",
      "source": [
        "***Tensor Initialization***"
      ],
      "metadata": {
        "id": "1rUfBvAub24T"
      }
    },
    {
      "cell_type": "markdown",
      "source": [
        "1. Directly from data\n",
        "Tensors can be created directly from data. The data type is automatically\n",
        "inferred."
      ],
      "metadata": {
        "id": "6NpXbEY9b8Zj"
      }
    },
    {
      "cell_type": "code",
      "source": [
        "data = [[1, 2], [3, 4]]\n",
        "x_data = torch.tensor(data)"
      ],
      "metadata": {
        "id": "r43nLh-db3vW"
      },
      "execution_count": null,
      "outputs": []
    },
    {
      "cell_type": "markdown",
      "source": [
        "2. From a NumPy array\n",
        "Tensors can be created from NumPy arrays"
      ],
      "metadata": {
        "id": "ruk5QWp9b9Ts"
      }
    },
    {
      "cell_type": "code",
      "source": [
        "np_array = np.array(data)\n",
        "x_np = torch.from_numpy(np_array)"
      ],
      "metadata": {
        "id": "UauhbOOWb-8F"
      },
      "execution_count": null,
      "outputs": []
    },
    {
      "cell_type": "markdown",
      "source": [
        "3. From another tensor:\n",
        "The new tensor retains the properties (shape, datatype) of the argument tensor,\n",
        "unless explicitly overridden."
      ],
      "metadata": {
        "id": "BGPqUN1ccAew"
      }
    },
    {
      "cell_type": "code",
      "source": [
        "x_ones = torch.ones_like(x_data) # retains the properties of x_data\n",
        "print(f\"Ones Tensor: \\n {x_ones} \\n\")\n",
        "x_rand = torch.rand_like(x_data, dtype=torch.float) # overrides the datatype of x_data\n",
        "print(f\"Random Tensor: \\n {x_rand} \\n\")"
      ],
      "metadata": {
        "colab": {
          "base_uri": "https://localhost:8080/"
        },
        "id": "GI_fcxFNcCCP",
        "outputId": "c2d26caa-a709-4510-b3bd-3fb9376fff66"
      },
      "execution_count": null,
      "outputs": [
        {
          "output_type": "stream",
          "name": "stdout",
          "text": [
            "Ones Tensor: \n",
            " tensor([[1, 1],\n",
            "        [1, 1]]) \n",
            "\n",
            "Random Tensor: \n",
            " tensor([[0.1214, 0.7263],\n",
            "        [0.7302, 0.2391]]) \n",
            "\n"
          ]
        }
      ]
    },
    {
      "cell_type": "markdown",
      "source": [
        "4. With random or constant values:\n",
        "shape is a tuple of tensor dimensions. In the functions below, it determines the\n",
        "dimensionality of the output tensor."
      ],
      "metadata": {
        "id": "KEe0WigXcDhw"
      }
    },
    {
      "cell_type": "code",
      "source": [
        "shape = (2, 3,)\n",
        "rand_tensor = torch.rand(shape)\n",
        "ones_tensor = torch.ones(shape)\n",
        "zeros_tensor = torch.zeros(shape)\n",
        "print(f\"Random Tensor: \\n {rand_tensor} \\n\")\n",
        "print(f\"Ones Tensor: \\n {ones_tensor} \\n\")\n",
        "print(f\"Zeros Tensor: \\n {zeros_tensor}\")"
      ],
      "metadata": {
        "colab": {
          "base_uri": "https://localhost:8080/"
        },
        "id": "ctZkv_olcFJr",
        "outputId": "a0c75aa8-5fff-4ea7-886e-3de8a1946b15"
      },
      "execution_count": null,
      "outputs": [
        {
          "output_type": "stream",
          "name": "stdout",
          "text": [
            "Random Tensor: \n",
            " tensor([[0.3637, 0.8083, 0.5100],\n",
            "        [0.8318, 0.6597, 0.6207]]) \n",
            "\n",
            "Ones Tensor: \n",
            " tensor([[1., 1., 1.],\n",
            "        [1., 1., 1.]]) \n",
            "\n",
            "Zeros Tensor: \n",
            " tensor([[0., 0., 0.],\n",
            "        [0., 0., 0.]])\n"
          ]
        }
      ]
    },
    {
      "cell_type": "markdown",
      "source": [
        "***Tensor Attributes***\n"
      ],
      "metadata": {
        "id": "_mgoCde5cT8m"
      }
    },
    {
      "cell_type": "markdown",
      "source": [
        "Tensor attributes describe their shape, datatype, and the device on which they are\n",
        "stored."
      ],
      "metadata": {
        "id": "lmKXHiodcoO4"
      }
    },
    {
      "cell_type": "code",
      "source": [
        "tensor = torch.rand(3, 4)\n",
        "print(f\"Shape of tensor: {tensor.shape}\")\n",
        "print(f\"Datatype of tensor: {tensor.dtype}\")\n",
        "print(f\"Device tensor is stored on: {tensor.device}\")"
      ],
      "metadata": {
        "colab": {
          "base_uri": "https://localhost:8080/"
        },
        "id": "LsQWtnqlcWyE",
        "outputId": "95d0a78e-7a6f-4d4a-b2f6-aa91fae73aac"
      },
      "execution_count": null,
      "outputs": [
        {
          "output_type": "stream",
          "name": "stdout",
          "text": [
            "Shape of tensor: torch.Size([3, 4])\n",
            "Datatype of tensor: torch.float32\n",
            "Device tensor is stored on: cpu\n"
          ]
        }
      ]
    },
    {
      "cell_type": "markdown",
      "source": [
        "***Tensor Operations***"
      ],
      "metadata": {
        "id": "dM5CrNhReiCc"
      }
    },
    {
      "cell_type": "markdown",
      "source": [
        "Over 100 tensor operations, including transposing, indexing, slicing, mathematical\n",
        "operations, linear algebra, random sampling, and more are described here.\n",
        "Each of them can be run on the GPU (at typically higher speeds than on a CPU). If\n",
        "you’re using Colab, allocate a GPU by going to Edit > Notebook Settings"
      ],
      "metadata": {
        "id": "t0_L570kekmE"
      }
    },
    {
      "cell_type": "code",
      "source": [
        "import torch\n",
        "\n",
        "# Create a tensor\n",
        "tensor = torch.tensor([1, 2, 3])\n",
        "\n",
        "# Check if GPU is available and move the tensor to the GPU\n",
        "if torch.cuda.is_available():\n",
        "    tensor = tensor.to('cuda')\n",
        "    print(f\"Device tensor is stored on: {tensor.device}\")\n",
        "else:\n",
        "    print(\"GPU is not available, using CPU.\")\n",
        "\n"
      ],
      "metadata": {
        "colab": {
          "base_uri": "https://localhost:8080/"
        },
        "id": "j1EArMfYeoOa",
        "outputId": "e1c5dfc3-4e26-41b7-df75-31ea468b687f"
      },
      "execution_count": null,
      "outputs": [
        {
          "output_type": "stream",
          "name": "stdout",
          "text": [
            "Device tensor is stored on: cuda:0\n"
          ]
        }
      ]
    },
    {
      "cell_type": "markdown",
      "source": [
        "1. Standard numpy-like indexing and slicing:\n"
      ],
      "metadata": {
        "id": "E62odyFOfoQP"
      }
    },
    {
      "cell_type": "code",
      "source": [
        "tensor = torch.ones(4, 4)\n",
        "tensor[:,1] = 0\n",
        "print(tensor)"
      ],
      "metadata": {
        "colab": {
          "base_uri": "https://localhost:8080/"
        },
        "id": "luSWTl8lfq5f",
        "outputId": "4c05c263-a28c-4f52-9f8a-d609c43c40fb"
      },
      "execution_count": null,
      "outputs": [
        {
          "output_type": "stream",
          "name": "stdout",
          "text": [
            "tensor([[1., 0., 1., 1.],\n",
            "        [1., 0., 1., 1.],\n",
            "        [1., 0., 1., 1.],\n",
            "        [1., 0., 1., 1.]])\n"
          ]
        }
      ]
    },
    {
      "cell_type": "code",
      "source": [
        "tensor = torch.ones(4, 4)\n",
        "tensor[:,2] = 0\n",
        "print(tensor)"
      ],
      "metadata": {
        "colab": {
          "base_uri": "https://localhost:8080/"
        },
        "id": "UriO4dmMf5Ok",
        "outputId": "480ce7a3-3f61-49a0-a360-01477c311422"
      },
      "execution_count": null,
      "outputs": [
        {
          "output_type": "stream",
          "name": "stdout",
          "text": [
            "tensor([[1., 1., 0., 1.],\n",
            "        [1., 1., 0., 1.],\n",
            "        [1., 1., 0., 1.],\n",
            "        [1., 1., 0., 1.]])\n"
          ]
        }
      ]
    },
    {
      "cell_type": "markdown",
      "source": [
        "2. Joining tensors"
      ],
      "metadata": {
        "id": "-lHt3Co9f8f4"
      }
    },
    {
      "cell_type": "code",
      "source": [
        "t1 = torch.cat([tensor, tensor, tensor], dim=1)\n",
        "print(t1)\n"
      ],
      "metadata": {
        "colab": {
          "base_uri": "https://localhost:8080/"
        },
        "id": "F1HUaSg-f8yR",
        "outputId": "403b447c-6921-4641-ca37-16b4645ca41d"
      },
      "execution_count": null,
      "outputs": [
        {
          "output_type": "stream",
          "name": "stdout",
          "text": [
            "tensor([[1., 1., 0., 1., 1., 1., 0., 1., 1., 1., 0., 1.],\n",
            "        [1., 1., 0., 1., 1., 1., 0., 1., 1., 1., 0., 1.],\n",
            "        [1., 1., 0., 1., 1., 1., 0., 1., 1., 1., 0., 1.],\n",
            "        [1., 1., 0., 1., 1., 1., 0., 1., 1., 1., 0., 1.]])\n"
          ]
        }
      ]
    },
    {
      "cell_type": "markdown",
      "source": [
        "to concatenate a sequence of tensors along a given\n",
        "dimension"
      ],
      "metadata": {
        "id": "Yj6eEhUFgB4i"
      }
    },
    {
      "cell_type": "markdown",
      "source": [
        "3. Multiplying tensors\n"
      ],
      "metadata": {
        "id": "8XDNfqCTgPZb"
      }
    },
    {
      "cell_type": "markdown",
      "source": [
        "حاصل ضرب العنصر بنفسه (طريقتين)"
      ],
      "metadata": {
        "id": "dZWWgJo8gtsm"
      }
    },
    {
      "cell_type": "code",
      "source": [
        "# This computes the element-wise product\n",
        "print(f\"tensor.mul(tensor) \\n {tensor.mul(tensor)} \\n\")\n",
        "# Alternative syntax:\n",
        "print(f\"tensor * tensor \\n {tensor * tensor}\")"
      ],
      "metadata": {
        "colab": {
          "base_uri": "https://localhost:8080/"
        },
        "id": "NFeNycLFgSIb",
        "outputId": "29f800f3-c8fe-4a12-e6f3-00cf1ec02022"
      },
      "execution_count": null,
      "outputs": [
        {
          "output_type": "stream",
          "name": "stdout",
          "text": [
            "tensor.mul(tensor) \n",
            " tensor([[1., 1., 0., 1.],\n",
            "        [1., 1., 0., 1.],\n",
            "        [1., 1., 0., 1.],\n",
            "        [1., 1., 0., 1.]]) \n",
            "\n",
            "tensor * tensor \n",
            " tensor([[1., 1., 0., 1.],\n",
            "        [1., 1., 0., 1.],\n",
            "        [1., 1., 0., 1.],\n",
            "        [1., 1., 0., 1.]])\n"
          ]
        }
      ]
    },
    {
      "cell_type": "markdown",
      "source": [
        "This computes the matrix multiplication between two tensors.\n"
      ],
      "metadata": {
        "id": "pR7P4gLXgZY5"
      }
    },
    {
      "cell_type": "code",
      "source": [
        "print(f\"tensor.matmul(tensor.T) \\n {tensor.matmul(tensor.T)} \\n\")\n",
        "# Alternative syntax:\n",
        "print(f\"tensor @ tensor.T \\n {tensor @ tensor.T}\")"
      ],
      "metadata": {
        "colab": {
          "base_uri": "https://localhost:8080/"
        },
        "id": "Nj0fZs0NgZxh",
        "outputId": "322fd2a7-9de4-4c8d-c5f9-ed54c4254ff9"
      },
      "execution_count": null,
      "outputs": [
        {
          "output_type": "stream",
          "name": "stdout",
          "text": [
            "tensor.matmul(tensor.T) \n",
            " tensor([[3., 3., 3., 3.],\n",
            "        [3., 3., 3., 3.],\n",
            "        [3., 3., 3., 3.],\n",
            "        [3., 3., 3., 3.]]) \n",
            "\n",
            "tensor @ tensor.T \n",
            " tensor([[3., 3., 3., 3.],\n",
            "        [3., 3., 3., 3.],\n",
            "        [3., 3., 3., 3.],\n",
            "        [3., 3., 3., 3.]])\n"
          ]
        }
      ]
    },
    {
      "cell_type": "markdown",
      "source": [
        "Original :\n",
        "\n",
        "[[1., 0., 1., 1.],\n",
        "\n",
        " [1., 0., 1., 1.],\n",
        "\n",
        " [1., 0., 1., 1.],\n",
        "\n",
        " [1., 0., 1., 1.]]\n",
        "\n",
        " Transpose\n",
        "\n",
        " [[1., 1., 1., 1.],\n",
        "\n",
        " [0., 0., 0., 0.],\n",
        "\n",
        " [1., 1., 1., 1.],\n",
        "\n",
        " [1., 1., 1., 1.]]\n",
        "\n",
        "\n",
        "Then apply dot product\n"
      ],
      "metadata": {
        "id": "YJqOzbdQhIGw"
      }
    },
    {
      "cell_type": "markdown",
      "source": [
        "4. In-place operations"
      ],
      "metadata": {
        "id": "0KGtY_tmhfCr"
      }
    },
    {
      "cell_type": "code",
      "source": [
        "print(tensor, \"\\n\")\n",
        "tensor.add_(5) # add  for each element\n",
        "print(tensor)"
      ],
      "metadata": {
        "colab": {
          "base_uri": "https://localhost:8080/"
        },
        "id": "dUpc4NmDhfXH",
        "outputId": "1a8c06c3-7e87-4ebc-a46e-87fd37f07b2f"
      },
      "execution_count": null,
      "outputs": [
        {
          "output_type": "stream",
          "name": "stdout",
          "text": [
            "tensor([[1., 1., 0., 1.],\n",
            "        [1., 1., 0., 1.],\n",
            "        [1., 1., 0., 1.],\n",
            "        [1., 1., 0., 1.]]) \n",
            "\n",
            "tensor([[6., 6., 5., 6.],\n",
            "        [6., 6., 5., 6.],\n",
            "        [6., 6., 5., 6.],\n",
            "        [6., 6., 5., 6.]])\n"
          ]
        }
      ]
    },
    {
      "cell_type": "markdown",
      "source": [
        "***Bridge with NumPy***"
      ],
      "metadata": {
        "id": "e9Ww78NWhrJB"
      }
    },
    {
      "cell_type": "markdown",
      "source": [
        "Tensors on the CPU and NumPy arrays can share their underlying memory locations,\n",
        "and changing one will change the other."
      ],
      "metadata": {
        "id": "qoh6DqNdhx7-"
      }
    },
    {
      "cell_type": "markdown",
      "source": [
        "Tensor to NumPy array: A change in the tensor reflects in the NumPy array."
      ],
      "metadata": {
        "id": "pA_L9y7tiEZi"
      }
    },
    {
      "cell_type": "code",
      "source": [
        "t = torch.ones(5) # five of ones\n",
        "print(f\"t: {t}\")\n",
        "n = t.numpy()\n",
        "print(f\"n: {n}\")\n",
        "t.add_(1) # adding one to each element\n",
        "print(f\"t: {t}\")\n",
        "print(f\"n: {n}\")"
      ],
      "metadata": {
        "colab": {
          "base_uri": "https://localhost:8080/"
        },
        "id": "GpPZdpiIhr2P",
        "outputId": "bc10ca40-215c-496e-ab15-a4d902bb7fe6"
      },
      "execution_count": null,
      "outputs": [
        {
          "output_type": "stream",
          "name": "stdout",
          "text": [
            "t: tensor([1., 1., 1., 1., 1.])\n",
            "n: [1. 1. 1. 1. 1.]\n",
            "t: tensor([2., 2., 2., 2., 2.])\n",
            "n: [2. 2. 2. 2. 2.]\n"
          ]
        }
      ]
    },
    {
      "cell_type": "markdown",
      "source": [
        "NumPy array to Tensor: Changes in the NumPy array reflects in the tensor :"
      ],
      "metadata": {
        "id": "aGeZh03OiHs0"
      }
    },
    {
      "cell_type": "code",
      "source": [
        "import numpy as np\n",
        "n = np.ones(5)\n",
        "t = torch.from_numpy(n)\n",
        "np.add(n, 1, out=n)\n",
        "print(f\"t: {t}\")\n",
        "print(f\"n: {n}\")"
      ],
      "metadata": {
        "colab": {
          "base_uri": "https://localhost:8080/"
        },
        "id": "_lbmhgI6iJ7r",
        "outputId": "aa7686d6-632a-4030-dbbd-3e5e79c78c0f"
      },
      "execution_count": null,
      "outputs": [
        {
          "output_type": "stream",
          "name": "stdout",
          "text": [
            "t: tensor([2., 2., 2., 2., 2.], dtype=torch.float64)\n",
            "n: [2. 2. 2. 2. 2.]\n"
          ]
        }
      ]
    },
    {
      "cell_type": "markdown",
      "source": [
        "**1.2 A Gentle Introduction to torch.autograd**"
      ],
      "metadata": {
        "id": "5OsqPQpXibrU"
      }
    },
    {
      "cell_type": "markdown",
      "source": [
        "***Differentiation in Autograd***"
      ],
      "metadata": {
        "id": "BygtVkPWid5G"
      }
    },
    {
      "cell_type": "markdown",
      "source": [
        "Let’s take a look at how autograd collects gradients. We create two tensors a and b\n",
        "with requires grad=True. This signals to autograd that every operation on them\n",
        "should be tracked."
      ],
      "metadata": {
        "id": "ibVgthDsil-K"
      }
    },
    {
      "cell_type": "code",
      "source": [
        "import torch\n",
        "a = torch.tensor([2., 3.], requires_grad=True)\n",
        "b = torch.tensor([6., 4.], requires_grad=True)"
      ],
      "metadata": {
        "id": "xxC2naz8igMj"
      },
      "execution_count": null,
      "outputs": []
    },
    {
      "cell_type": "markdown",
      "source": [
        "We create another tensor Q from a and b.\n",
        "Q = 3a^3 − b^2"
      ],
      "metadata": {
        "id": "Enc5mhq7ipD6"
      }
    },
    {
      "cell_type": "code",
      "source": [
        "Q = 3*a**3 - b**2\n"
      ],
      "metadata": {
        "id": "1lbiNTS4ivn7"
      },
      "execution_count": null,
      "outputs": []
    },
    {
      "cell_type": "markdown",
      "source": [
        " .backward() on Q, autograd calculates these gradients :"
      ],
      "metadata": {
        "id": "4HAsER33jDcN"
      }
    },
    {
      "cell_type": "code",
      "source": [
        "external_grad = torch.tensor([1., 1.])\n",
        "Q.backward(gradient=external_grad)"
      ],
      "metadata": {
        "id": "xFbcRm7fi7sJ"
      },
      "execution_count": null,
      "outputs": []
    },
    {
      "cell_type": "markdown",
      "source": [
        "gradient is a tensor of the same shape as Q, and it represents the gradient\n",
        "of Q"
      ],
      "metadata": {
        "id": "nRvKWbFVjJlp"
      }
    },
    {
      "cell_type": "code",
      "source": [
        "# check if collected gradients are correct\n",
        "print(9*a**2 == a.grad)\n",
        "print(-2*b == b.grad)"
      ],
      "metadata": {
        "colab": {
          "base_uri": "https://localhost:8080/"
        },
        "id": "NPktoYESi9gS",
        "outputId": "d80d2752-fa2c-4671-d8ae-948a2f467678"
      },
      "execution_count": null,
      "outputs": [
        {
          "output_type": "stream",
          "name": "stdout",
          "text": [
            "tensor([True, True])\n",
            "tensor([True, True])\n"
          ]
        }
      ]
    },
    {
      "cell_type": "markdown",
      "source": [
        "**1.3 Building Models with PyTorch**"
      ],
      "metadata": {
        "id": "-3Md8n2QjRXP"
      }
    },
    {
      "cell_type": "markdown",
      "source": [
        "***MLP for digit classification***"
      ],
      "metadata": {
        "id": "qjPbzUrAjWTe"
      }
    },
    {
      "cell_type": "code",
      "source": [
        "import torch\n",
        "import torch.nn as nn\n",
        "import torch.nn.functional as F\n",
        "\n",
        "class Net(nn.Module):\n",
        "    def __init__(self):\n",
        "        super(Net, self).__init__()\n",
        "        # An affine operation: y = Wx + b\n",
        "        # 784 is the input dimension, and 64 is the output dimension of the first hidden layer\n",
        "        self.fc1 = nn.Linear(784, 64)\n",
        "        self.fc2 = nn.Linear(64, 64)\n",
        "        self.fc3 = nn.Linear(64, 10)\n",
        "\n",
        "    def forward(self, x):\n",
        "        # Apply the first layer with ReLU activation\n",
        "        x = F.relu(self.fc1(x))\n",
        "        x = F.relu(self.fc2(x))\n",
        "        x = self.fc3(x)\n",
        "        return x\n",
        "\n",
        "net = Net()\n"
      ],
      "metadata": {
        "id": "ZY_9mT69jXsa"
      },
      "execution_count": null,
      "outputs": []
    },
    {
      "cell_type": "markdown",
      "source": [
        "The learnable parameters of a model are returned by net.parameters()\n"
      ],
      "metadata": {
        "id": "GJQfRHBBj9Tf"
      }
    },
    {
      "cell_type": "code",
      "source": [
        "params = list(net.parameters())\n",
        "print(len(params))\n",
        "for p in params:\n",
        "  print(p.size())"
      ],
      "metadata": {
        "colab": {
          "base_uri": "https://localhost:8080/"
        },
        "id": "hh0OTjTKjotG",
        "outputId": "16555533-0059-4332-88a8-f4bda487879d"
      },
      "execution_count": null,
      "outputs": [
        {
          "output_type": "stream",
          "name": "stdout",
          "text": [
            "6\n",
            "torch.Size([64, 784])\n",
            "torch.Size([64])\n",
            "torch.Size([64, 64])\n",
            "torch.Size([64])\n",
            "torch.Size([10, 64])\n",
            "torch.Size([10])\n"
          ]
        }
      ]
    },
    {
      "cell_type": "markdown",
      "source": [
        "***Task 2: Identify what are the parameters that are printed in the previous code.***"
      ],
      "metadata": {
        "id": "PBydbcNLqBKJ"
      }
    },
    {
      "cell_type": "markdown",
      "source": [
        " torch.Size([64, 784])\n",
        ": because there are 64 output units and 784 input features.\n",
        "\n",
        "torch.Size([64, 784])\n",
        "torch.Size([64])\n",
        "torch.Size([64, 64])\n",
        "torch.Size([64])\n",
        "torch.Size([10, 64])\n",
        "torch.Size([10])"
      ],
      "metadata": {
        "id": "_Ym4PKnMkSwD"
      }
    },
    {
      "cell_type": "markdown",
      "source": [
        "Let’s try a random input. Note: expected input size of this network is 784.\n"
      ],
      "metadata": {
        "id": "kkaLD2HskoRV"
      }
    },
    {
      "cell_type": "code",
      "source": [
        "# Create a random mini-batch of size 1 with 784 features each\n",
        "input = torch.randn(1, 784)\n",
        "out = net(input)\n",
        "print(out)\n"
      ],
      "metadata": {
        "colab": {
          "base_uri": "https://localhost:8080/"
        },
        "id": "0G8qNZziko1x",
        "outputId": "d9a1101f-f54e-4144-a419-cf02f87361a0"
      },
      "execution_count": null,
      "outputs": [
        {
          "output_type": "stream",
          "name": "stdout",
          "text": [
            "tensor([[ 0.2831,  0.0277, -0.0414, -0.0062,  0.1106,  0.0435,  0.0491, -0.2818,\n",
            "          0.1371, -0.1252]], grad_fn=<AddmmBackward0>)\n"
          ]
        }
      ]
    },
    {
      "cell_type": "markdown",
      "source": [
        "***Task 3:*** Try the previous network with a random mini-batch of size 4 and print its\n",
        "output."
      ],
      "metadata": {
        "id": "-wYezo-bk1lA"
      }
    },
    {
      "cell_type": "code",
      "source": [
        "# Create a random mini-batch of size 4 with 784 features each\n",
        "input = torch.randn(4, 784)\n",
        "out = net(input)\n",
        "print(out)\n"
      ],
      "metadata": {
        "colab": {
          "base_uri": "https://localhost:8080/"
        },
        "id": "CDOfopSvk4Sb",
        "outputId": "b480e83e-ca9d-4b6b-cf62-c5d9d6825091"
      },
      "execution_count": null,
      "outputs": [
        {
          "output_type": "stream",
          "name": "stdout",
          "text": [
            "tensor([[ 0.2162, -0.0461, -0.0159,  0.2008,  0.0411,  0.1053,  0.0054, -0.1957,\n",
            "          0.0334, -0.0200],\n",
            "        [ 0.2391,  0.0042, -0.0045,  0.0740,  0.0268,  0.1460,  0.0541, -0.1217,\n",
            "          0.1659, -0.1234],\n",
            "        [ 0.2269, -0.0262, -0.1220, -0.0181,  0.0311,  0.1644,  0.0455, -0.2477,\n",
            "          0.1062, -0.0837],\n",
            "        [ 0.1791,  0.0627, -0.1348,  0.0710,  0.0715,  0.2158,  0.1830, -0.2066,\n",
            "          0.0375, -0.0665]], grad_fn=<AddmmBackward0>)\n"
          ]
        }
      ]
    },
    {
      "cell_type": "markdown",
      "source": [
        "***Define a Loss function and optimizer***"
      ],
      "metadata": {
        "id": "CO_BZZsNlCW5"
      }
    },
    {
      "cell_type": "code",
      "source": [
        "import torch.optim as optim\n",
        "loss = nn.CrossEntropyLoss()\n",
        "optimizer = optim.SGD(net.parameters(), lr=0.001)"
      ],
      "metadata": {
        "id": "qPu_eiY5lDUV"
      },
      "execution_count": null,
      "outputs": []
    },
    {
      "cell_type": "markdown",
      "source": [
        "***Loading a Dataset***\n"
      ],
      "metadata": {
        "id": "Bw438ZjtlIIM"
      }
    },
    {
      "cell_type": "code",
      "source": [
        "import torch\n",
        "from torch.utils.data import Dataset\n",
        "from torchvision import datasets\n",
        "from torchvision.transforms import ToTensor\n",
        "import matplotlib.pyplot as plt\n",
        "training_data = datasets.MNIST(\n",
        "root=\"data\",\n",
        "train=True,\n",
        "download=True,\n",
        "transform=ToTensor()\n",
        ")\n",
        "test_data = datasets.MNIST(\n",
        "root=\"data\",\n",
        "train=False,\n",
        "download=True,\n",
        "transform=ToTensor()\n",
        ")\n"
      ],
      "metadata": {
        "colab": {
          "base_uri": "https://localhost:8080/"
        },
        "id": "KGnyBo9ulZ6P",
        "outputId": "80583395-7a8a-402d-c2f3-66580036f022"
      },
      "execution_count": null,
      "outputs": [
        {
          "output_type": "stream",
          "name": "stdout",
          "text": [
            "Downloading http://yann.lecun.com/exdb/mnist/train-images-idx3-ubyte.gz\n",
            "Downloading http://yann.lecun.com/exdb/mnist/train-images-idx3-ubyte.gz to data/MNIST/raw/train-images-idx3-ubyte.gz\n"
          ]
        },
        {
          "output_type": "stream",
          "name": "stderr",
          "text": [
            "100%|██████████| 9912422/9912422 [00:00<00:00, 133279833.96it/s]"
          ]
        },
        {
          "output_type": "stream",
          "name": "stdout",
          "text": [
            "Extracting data/MNIST/raw/train-images-idx3-ubyte.gz to data/MNIST/raw\n"
          ]
        },
        {
          "output_type": "stream",
          "name": "stderr",
          "text": [
            "\n"
          ]
        },
        {
          "output_type": "stream",
          "name": "stdout",
          "text": [
            "\n",
            "Downloading http://yann.lecun.com/exdb/mnist/train-labels-idx1-ubyte.gz\n",
            "Downloading http://yann.lecun.com/exdb/mnist/train-labels-idx1-ubyte.gz to data/MNIST/raw/train-labels-idx1-ubyte.gz\n"
          ]
        },
        {
          "output_type": "stream",
          "name": "stderr",
          "text": [
            "100%|██████████| 28881/28881 [00:00<00:00, 56499857.19it/s]\n"
          ]
        },
        {
          "output_type": "stream",
          "name": "stdout",
          "text": [
            "Extracting data/MNIST/raw/train-labels-idx1-ubyte.gz to data/MNIST/raw\n",
            "\n",
            "Downloading http://yann.lecun.com/exdb/mnist/t10k-images-idx3-ubyte.gz\n",
            "Downloading http://yann.lecun.com/exdb/mnist/t10k-images-idx3-ubyte.gz to data/MNIST/raw/t10k-images-idx3-ubyte.gz\n"
          ]
        },
        {
          "output_type": "stream",
          "name": "stderr",
          "text": [
            "100%|██████████| 1648877/1648877 [00:00<00:00, 54382186.30it/s]"
          ]
        },
        {
          "output_type": "stream",
          "name": "stdout",
          "text": [
            "Extracting data/MNIST/raw/t10k-images-idx3-ubyte.gz to data/MNIST/raw\n"
          ]
        },
        {
          "output_type": "stream",
          "name": "stderr",
          "text": [
            "\n"
          ]
        },
        {
          "output_type": "stream",
          "name": "stdout",
          "text": [
            "\n",
            "Downloading http://yann.lecun.com/exdb/mnist/t10k-labels-idx1-ubyte.gz\n",
            "Downloading http://yann.lecun.com/exdb/mnist/t10k-labels-idx1-ubyte.gz to data/MNIST/raw/t10k-labels-idx1-ubyte.gz\n"
          ]
        },
        {
          "output_type": "stream",
          "name": "stderr",
          "text": [
            "100%|██████████| 4542/4542 [00:00<00:00, 19340638.34it/s]"
          ]
        },
        {
          "output_type": "stream",
          "name": "stdout",
          "text": [
            "Extracting data/MNIST/raw/t10k-labels-idx1-ubyte.gz to data/MNIST/raw\n",
            "\n"
          ]
        },
        {
          "output_type": "stream",
          "name": "stderr",
          "text": [
            "\n"
          ]
        }
      ]
    },
    {
      "cell_type": "markdown",
      "source": [
        "***Iterating and Visualizing the Dataset***"
      ],
      "metadata": {
        "id": "b4YTCD8LlfgB"
      }
    },
    {
      "cell_type": "code",
      "source": [
        "import matplotlib.pyplot as plt\n",
        "\n",
        "figure = plt.figure(figsize=(8, 8))\n",
        "cols, rows = 3, 3\n",
        "\n",
        "for i in range(1, cols * rows + 1):\n",
        "    sample_idx = torch.randint(len(training_data), size=(1,)).item()\n",
        "    img, label = training_data[sample_idx]\n",
        "    ax = figure.add_subplot(rows, cols, i)\n",
        "    ax.set_title(\"digit: \" + str(label))\n",
        "    ax.axis(\"off\")\n",
        "    plt.imshow(img.squeeze(), cmap=\"gray\")\n",
        "\n",
        "plt.show()\n"
      ],
      "metadata": {
        "colab": {
          "base_uri": "https://localhost:8080/",
          "height": 675
        },
        "id": "nYW7Tz7qlgOp",
        "outputId": "6a160684-5b26-4dca-8245-62162511bf55"
      },
      "execution_count": null,
      "outputs": [
        {
          "output_type": "display_data",
          "data": {
            "text/plain": [
              "<Figure size 800x800 with 9 Axes>"
            ],
            "image/png": "[encoded data removed]"
          },
          "metadata": {}
        }
      ]
    },
    {
      "cell_type": "markdown",
      "source": [
        "***Preparing your data for training with DataLoaders***"
      ],
      "metadata": {
        "id": "clPH_CghltpS"
      }
    },
    {
      "cell_type": "code",
      "source": [
        "from torch.utils.data import DataLoader\n",
        "train_dataloader = DataLoader(training_data, batch_size=4, shuffle=True)\n",
        "test_dataloader = DataLoader(test_data, batch_size=4, shuffle=True)"
      ],
      "metadata": {
        "id": "vmRnh29yluc9"
      },
      "execution_count": null,
      "outputs": []
    },
    {
      "cell_type": "markdown",
      "source": [
        "***Iterate through the DataLoader***"
      ],
      "metadata": {
        "id": "QK4imgDUl5dn"
      }
    },
    {
      "cell_type": "code",
      "source": [
        "# Display image and label.\n",
        "train_features, train_labels = next(iter(train_dataloader))\n",
        "print(f\"Feature batch shape: {train_features.size()}\")\n",
        "print(f\"Labels batch shape: {train_labels.size()}\")\n",
        "img = train_features[0].squeeze()\n",
        "label = train_labels[0]\n",
        "plt.imshow(img, cmap=\"gray\")\n",
        "plt.show()\n",
        "print(f\"Label: {label}\")"
      ],
      "metadata": {
        "colab": {
          "base_uri": "https://localhost:8080/",
          "height": 482
        },
        "id": "oMf3doWwl6IW",
        "outputId": "9fa54cd6-905d-4bf7-bd14-03228206e27a"
      },
      "execution_count": null,
      "outputs": [
        {
          "output_type": "stream",
          "name": "stdout",
          "text": [
            "Feature batch shape: torch.Size([4, 1, 28, 28])\n",
            "Labels batch shape: torch.Size([4])\n"
          ]
        },
        {
          "output_type": "display_data",
          "data": {
            "text/plain": [
              "<Figure size 640x480 with 1 Axes>"
            ],
            "image/png": "[encoded data removed]"
          },
          "metadata": {}
        },
        {
          "output_type": "stream",
          "name": "stdout",
          "text": [
            "Label: 5\n"
          ]
        }
      ]
    },
    {
      "cell_type": "markdown",
      "source": [
        "Feature batch shape: torch.Size([4, 1, 28, 28])\n",
        "\n",
        "indicates that there are 4 images in the batch, each with 1 channel (grayscale), and each image has a size of 28x28 pixels.\n",
        "\n",
        "======\n",
        "\n",
        "Labels batch shape: torch.Size([4])\n",
        "\n",
        "\n",
        "indicates that there are 4 corresponding labels for the 4 images in the batch.\n",
        "\n"
      ],
      "metadata": {
        "id": "EHegrcXirjot"
      }
    },
    {
      "cell_type": "markdown",
      "source": [
        "***Train the network***"
      ],
      "metadata": {
        "id": "COU1dEa4mKHm"
      }
    },
    {
      "cell_type": "code",
      "source": [
        "for epoch in range(2):  # loop over the dataset multiple times\n",
        "    running_loss = 0.0\n",
        "    for i, data in enumerate(train_dataloader, 0):\n",
        "        # get the inputs; data is a list of [inputs, labels]\n",
        "        inputs, labels = data\n",
        "\n",
        "        # zero the parameter gradients\n",
        "        optimizer.zero_grad()\n",
        "\n",
        "        # forward + backward + optimize\n",
        "        outputs = net(torch.flatten(inputs, 1))\n",
        "        iteration_loss = loss(outputs, labels)\n",
        "        iteration_loss.backward()\n",
        "        optimizer.step()\n",
        "\n",
        "        # print statistics\n",
        "        running_loss += iteration_loss.item()\n",
        "        if i % 2000 == 1999:  # print every 2000 mini-batches\n",
        "            print(f'[{epoch + 1}, {i + 1:5d}] loss: {running_loss / 2000:.3f}')\n",
        "            running_loss = 0.0\n",
        "\n",
        "print('Finished Training')\n"
      ],
      "metadata": {
        "colab": {
          "base_uri": "https://localhost:8080/"
        },
        "id": "fj9mor2BmK4z",
        "outputId": "179e56c2-8d33-4a9d-f062-d3d3703d1226"
      },
      "execution_count": null,
      "outputs": [
        {
          "output_type": "stream",
          "name": "stdout",
          "text": [
            "[1,  2000] loss: 2.266\n",
            "[1,  4000] loss: 2.104\n",
            "[1,  6000] loss: 1.708\n",
            "[1,  8000] loss: 1.191\n",
            "[1, 10000] loss: 0.863\n",
            "[1, 12000] loss: 0.700\n",
            "[1, 14000] loss: 0.596\n",
            "[2,  2000] loss: 0.508\n",
            "[2,  4000] loss: 0.479\n",
            "[2,  6000] loss: 0.451\n",
            "[2,  8000] loss: 0.414\n",
            "[2, 10000] loss: 0.403\n",
            "[2, 12000] loss: 0.388\n",
            "[2, 14000] loss: 0.370\n",
            "Finished Training\n"
          ]
        }
      ]
    },
    {
      "cell_type": "markdown",
      "source": [
        "***Task 4: What is the meaning of epoch, forward pass, backward pass. What is\n",
        "the effect of torch.flatten(inputs, 1), and optimizer.step()?***\n"
      ],
      "metadata": {
        "id": "KjXoCvsEtJWf"
      }
    },
    {
      "cell_type": "markdown",
      "source": [
        "Epoch :  the number of times the learning algorithm sees the entire dataset.\n",
        "\n",
        "Forward Pass:refers to the process of passing input data through the neural network to compute the predicted output.\n",
        "\n",
        "Backward Pass :For computing loss ,by comparing its output to the ground truth (target values)"
      ],
      "metadata": {
        "id": "bbR_9PpXmbKV"
      }
    },
    {
      "cell_type": "markdown",
      "source": [
        "***Test the network on the test data***"
      ],
      "metadata": {
        "id": "R7D6yl5Gm0qD"
      }
    },
    {
      "cell_type": "code",
      "source": [
        "correct = 0\n",
        "total = 0\n",
        "\n",
        "# Since we're not training, we don't need to calculate the gradients for our outputs\n",
        "with torch.no_grad():\n",
        "    for data in test_dataloader:\n",
        "        images, labels = data\n",
        "\n",
        "        # Calculate outputs by running images through the network\n",
        "        outputs = net(torch.flatten(images, 1))\n",
        "\n",
        "        # The class with the highest energy is what we choose as a prediction\n",
        "        _, predicted = torch.max(outputs.data, 1)\n",
        "        total += labels.size(0)\n",
        "        correct += (predicted == labels).sum().item()\n",
        "\n",
        "print(f'Accuracy of the network on the 10000 test images: {100 * correct // total} %')\n"
      ],
      "metadata": {
        "colab": {
          "base_uri": "https://localhost:8080/"
        },
        "id": "1Wqst_Dqm2EK",
        "outputId": "187bfe26-9c8b-417d-c39b-9f6f8a57f44a"
      },
      "execution_count": null,
      "outputs": [
        {
          "output_type": "stream",
          "name": "stdout",
          "text": [
            "Accuracy of the network on the 10000 test images: 89 %\n"
          ]
        }
      ]
    },
    {
      "cell_type": "markdown",
      "source": [
        "***Task 5: Train the network with 3 hidden layers:***"
      ],
      "metadata": {
        "id": "-_ZGHTsMnH4b"
      }
    },
    {
      "cell_type": "code",
      "source": [
        "class Net(nn.Module):\n",
        "    def __init__(self):\n",
        "        super(Net, self).__init__()\n",
        "        self.fc1 = nn.Linear(784, 64)\n",
        "        self.fc2 = nn.Linear(64, 64)\n",
        "        self.fc3 = nn.Linear(64, 64)  # Adding a third hidden layer\n",
        "        self.fc4 = nn.Linear(64, 10)\n",
        "\n",
        "    def forward(self, x):\n",
        "        x = F.relu(self.fc1(x))\n",
        "        x = F.relu(self.fc2(x))\n",
        "        x = F.relu(self.fc3(x))  # Apply activation to the new hidden layer\n",
        "        x = self.fc4(x)\n",
        "        return x\n",
        "\n",
        "net = Net()\n"
      ],
      "metadata": {
        "id": "XXlo-_Itm-k8"
      },
      "execution_count": null,
      "outputs": []
    },
    {
      "cell_type": "markdown",
      "source": [
        "***Task 6: Train the network using the Adam optimizer:***"
      ],
      "metadata": {
        "id": "_7QKKr2ZnSAB"
      }
    },
    {
      "cell_type": "code",
      "source": [
        "import torch.optim as optim\n",
        "\n",
        "# Define the optimizer (Adam)\n",
        "optimizer = optim.Adam(net.parameters(), lr=0.001)\n",
        "\n",
        "# Training loop\n",
        "for epoch in range(2):\n",
        "    running_loss = 0.0\n",
        "    for i, data in enumerate(train_dataloader, 0):\n",
        "        inputs, labels = data\n",
        "        optimizer.zero_grad()\n",
        "        outputs = net(torch.flatten(inputs, 1))\n",
        "        iteration_loss = loss(outputs, labels)\n",
        "        iteration_loss.backward()\n",
        "        optimizer.step()\n",
        "        running_loss += iteration_loss.item()\n",
        "        if i % 2000 == 1999:\n",
        "            print(f'[{epoch + 1}, {i + 1:5d}] loss: {running_loss / 2000:.3f}')\n",
        "            running_loss = 0.0\n",
        "\n",
        "print('Finished Training')\n"
      ],
      "metadata": {
        "colab": {
          "base_uri": "https://localhost:8080/"
        },
        "id": "mUSp7mnwnTIj",
        "outputId": "37e1ea7f-bbd3-447e-c137-d7078968604a"
      },
      "execution_count": null,
      "outputs": [
        {
          "output_type": "stream",
          "name": "stdout",
          "text": [
            "[1,  2000] loss: 0.593\n",
            "[1,  4000] loss: 0.312\n",
            "[1,  6000] loss: 0.232\n",
            "[1,  8000] loss: 0.201\n",
            "[1, 10000] loss: 0.173\n",
            "[1, 12000] loss: 0.184\n",
            "[1, 14000] loss: 0.165\n",
            "[2,  2000] loss: 0.131\n",
            "[2,  4000] loss: 0.137\n",
            "[2,  6000] loss: 0.133\n",
            "[2,  8000] loss: 0.129\n",
            "[2, 10000] loss: 0.127\n",
            "[2, 12000] loss: 0.130\n",
            "[2, 14000] loss: 0.117\n",
            "Finished Training\n"
          ]
        }
      ]
    },
    {
      "cell_type": "markdown",
      "source": [
        "***Training on GPU***"
      ],
      "metadata": {
        "id": "ssfoctWZnnAa"
      }
    },
    {
      "cell_type": "code",
      "source": [
        "device = torch.device('cuda:0' if torch.cuda.is_available() else 'cpu')\n",
        "# Assuming that we are on a CUDA machine, this should print a CUDA device:\n",
        "print(device)"
      ],
      "metadata": {
        "colab": {
          "base_uri": "https://localhost:8080/"
        },
        "id": "oSqk-CFHnn3u",
        "outputId": "89626cc7-6163-4449-bab5-3add54acdafc"
      },
      "execution_count": null,
      "outputs": [
        {
          "output_type": "stream",
          "name": "stdout",
          "text": [
            "cuda:0\n"
          ]
        }
      ]
    },
    {
      "cell_type": "markdown",
      "source": [
        "***Task 7: Train the network in the previous example on GPU. Do you notice significant\n",
        "speedup? if not, try to increase the size of your network.***"
      ],
      "metadata": {
        "id": "ti9zox2foJbM"
      }
    },
    {
      "cell_type": "code",
      "source": [
        "import torch\n",
        "import torch.nn as nn\n",
        "import torch.nn.functional as F\n",
        "import torch.optim as optim\n",
        "\n",
        "# Define the neural network\n",
        "class Net(nn.Module):\n",
        "    def __init__(self):\n",
        "        super(Net, self).__init__()\n",
        "        self.fc1 = nn.Linear(784, 64)\n",
        "        self.fc2 = nn.Linear(64, 64)\n",
        "        self.fc3 = nn.Linear(64, 64)\n",
        "        self.fc4 = nn.Linear(64, 10)\n",
        "\n",
        "    def forward(self, x):\n",
        "        x = F.relu(self.fc1(x))\n",
        "        x = F.relu(self.fc2(x))\n",
        "        x = F.relu(self.fc3(x))\n",
        "        x = self.fc4(x)\n",
        "        return x\n",
        "\n",
        "# Check if a GPU is available\n",
        "device = torch.device(\"cuda:0\" if torch.cuda.is_available() else \"cpu\")\n",
        "\n",
        "# Define the neural network and move it to the GPU\n",
        "net = Net().to(device)\n",
        "\n",
        "# Define the optimizer and loss function\n",
        "optimizer = optim.Adam(net.parameters(), lr=0.001)\n",
        "criterion = nn.CrossEntropyLoss()\n",
        "\n",
        "# Training loop\n",
        "for epoch in range(2):\n",
        "    running_loss = 0.0\n",
        "    for i, data in enumerate(train_dataloader, 0):\n",
        "        inputs, labels = data\n",
        "        inputs, labels = inputs.to(device), labels.to(device)\n",
        "        optimizer.zero_grad()\n",
        "        outputs = net(torch.flatten(inputs, 1))\n",
        "        loss = criterion(outputs, labels)\n",
        "        loss.backward()\n",
        "        optimizer.step()\n",
        "        running_loss += loss.item()\n",
        "        if i % 2000 == 1999:\n",
        "            print(f'[{epoch + 1}, {i + 1:5d}] loss: {running_loss / 2000:.3f}')\n",
        "            running_loss = 0.0\n",
        "\n",
        "print('Finished Training')\n"
      ],
      "metadata": {
        "colab": {
          "base_uri": "https://localhost:8080/"
        },
        "id": "1zSSHbFZoHMb",
        "outputId": "513f2143-e8cb-458c-8eba-535697e7a09d"
      },
      "execution_count": null,
      "outputs": [
        {
          "output_type": "stream",
          "name": "stdout",
          "text": [
            "[1,  2000] loss: 0.591\n",
            "[1,  4000] loss: 0.301\n",
            "[1,  6000] loss: 0.232\n",
            "[1,  8000] loss: 0.217\n",
            "[1, 10000] loss: 0.199\n",
            "[1, 12000] loss: 0.187\n",
            "[1, 14000] loss: 0.170\n",
            "[2,  2000] loss: 0.138\n",
            "[2,  4000] loss: 0.138\n",
            "[2,  6000] loss: 0.129\n",
            "[2,  8000] loss: 0.141\n",
            "[2, 10000] loss: 0.126\n",
            "[2, 12000] loss: 0.122\n",
            "[2, 14000] loss: 0.127\n",
            "Finished Training\n"
          ]
        }
      ]
    }
  ]
}